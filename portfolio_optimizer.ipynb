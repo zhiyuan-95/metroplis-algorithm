{
  "nbformat": 4,
  "nbformat_minor": 0,
  "metadata": {
    "colab": {
      "provenance": [],
      "authorship_tag": "ABX9TyM4cTbPhoUONBu/PVLTT785",
      "include_colab_link": true
    },
    "kernelspec": {
      "name": "python3",
      "display_name": "Python 3"
    },
    "language_info": {
      "name": "python"
    }
  },
  "cells": [
    {
      "cell_type": "markdown",
      "metadata": {
        "id": "view-in-github",
        "colab_type": "text"
      },
      "source": [
        "<a href=\"https://colab.research.google.com/github/zhiyuan-95/portfolio_optimizer/blob/main/portfolio_optimizer.ipynb\" target=\"_parent\"><img src=\"https://colab.research.google.com/assets/colab-badge.svg\" alt=\"Open In Colab\"/></a>"
      ]
    },
    {
      "cell_type": "code",
      "source": [
        "from pandas_datareader import data as pdr\n",
        "import yfinance as yfin\n",
        "from datetime import datetime, timedelta,date\n",
        "import time\n",
        "import pandas as pd\n",
        "import numpy as np"
      ],
      "metadata": {
        "id": "B7riVM0kH_Pg"
      },
      "execution_count": 3,
      "outputs": []
    },
    {
      "cell_type": "code",
      "source": [
        "yfin.pdr_override()"
      ],
      "metadata": {
        "id": "jzWD9p4YK-7A"
      },
      "execution_count": 4,
      "outputs": []
    },
    {
      "cell_type": "code",
      "source": [
        "def Past3YearAveReturn(ticker,current_date):\n",
        "  stock = pd.read_csv('{0}.csv'.format(ticker))\n",
        "  return_sum = 0\n",
        "  for y in range(3):\n",
        "    the_year = str(int(current_date[:4])-y-1)\n",
        "    stock_last_yr= stock.loc[stock.Date.str.startswith(the_year)]\n",
        "    div = yfin.Ticker(ticker).dividends\n",
        "    div_sum = sum(div[div.index.strftime('%Y').str.startswith(the_year)])\n",
        "    p0 = stock_last_yr['Adj Close'][stock_last_yr.index[0]]\n",
        "    p1 = stock_last_yr['Adj Close'][stock_last_yr.index[-1]]\n",
        "    Return = (p1+div_sum-p0)/p0\n",
        "    return_sum+=Return\n",
        "#  print(p0,p1)\n",
        "  return return_sum/3"
      ],
      "metadata": {
        "id": "r9PDafKyw44B"
      },
      "execution_count": 5,
      "outputs": []
    },
    {
      "cell_type": "code",
      "source": [
        "def Expected_Return(ticker,current_date,period):\n",
        "  return (0.9*returnOfThisPeriod(ticker,current_date,period)+0.1*Past3YearAveReturn(ticker,current_date))"
      ],
      "metadata": {
        "id": "dUvmI_Sp1NoN"
      },
      "execution_count": 8,
      "outputs": []
    },
    {
      "cell_type": "code",
      "source": [
        "class portfolio:\n",
        "  def __init__(self,tickers):\n",
        "    self._tickers = tickers\n",
        "    self._div_history = pd.DataFrame()\n",
        "    self._price_history = {}\n",
        "    self.get_stocks()\n",
        "    self._t0 = ''\n",
        "    self._period = 12\n",
        "    self._t1 = ''\n",
        "\n",
        "    self._price= pd.DataFrame()\n",
        "    self._return = []\n",
        "    self._div = pd.DataFrame()\n",
        "  def get_stocks(self):\n",
        "      file_names = []\n",
        "      temp = []\n",
        "      div_date = []\n",
        "      div_history = {}\n",
        "      for x in self._tickers:\n",
        "        Start = '2007-1-1'\n",
        "        End = '2023-1-1'\n",
        "        df = pdr.get_data_yahoo(x,start=Start, end=End)\n",
        "        df.to_csv(x+'.csv')\n",
        "        self._price_history[x] = pd.read_csv('{0}.csv'.format(x))[['Date','Adj Close']]\n",
        "        self._price_history[x]['Date']=pd.to_datetime(self._price_history[x]['Date'])\n",
        "        div_history[x] = yfin.Ticker(x).dividends\n",
        "        div_date+=list(div_history[x].index)\n",
        "      div_date = sorted(div_date)\n",
        "      self._div_history.index= div_date\n",
        "      for y in self._tickers:\n",
        "        self._div_history[y] =div_history[y]\n",
        "  def update(self, date):\n",
        "    self._t1 = datetime.strptime(date,'%Y-%m-%d')\n",
        "    self._t0 = self._t1-timedelta(weeks = self._period)\n",
        "    start = self._t0.strftime('%Y-%m-%d')\n",
        "    end = self._t1.strftime(\"%Y-%m-%d\")\n",
        "    last_year = str(int(end[:4])-1)\n",
        "    for ticker in self._tickers:\n",
        "      self._price[ticker] = self._price_history[ticker].loc[(self._price_history[ticker]['Date'] >= start) & (self._price_history[ticker]['Date'] <= end)][['Adj Close']]\n",
        "      self._div[ticker] = self._div_history[ticker][self._div_history[ticker].index.strftime('%Y').str.startswith(last_year)]\n",
        "      self._div[ticker] = self._div[ticker].fillna(0)\n",
        "    self._price = self._price.to_numpy()\n",
        "    self._div = self._div.to_numpy()\n",
        "  def Return(self):\n",
        "    # return  = return on stock value from t0-t1 + expected on dividend\n",
        "    # expected return on dividend of period t of year n = sum of dividend of year n-1 *(t/52)\n",
        "    p0 = self._price[0]\n",
        "    p1 = self._price[1]\n",
        "    return_p = (p1-p0)/p0\n",
        "    div_rate = sum(self._div)/p0\n",
        "    E_return_d = div_rate*self._period/52\n",
        "    return return_p+E_return_d\n",
        "  def Past3YearAveReturn(self):\n",
        "    for t in range(3):\n",
        "      the_year = str(int(self._t1[:4])-y-1)\n",
        "      stock_last_yr= self._price_history.loc[self._price_history.Date.str.startswith(the_year)]\n",
        "      div_sum = sum(self._div_history[self._div_history.index.strftime('%Y').str.startswith(the_year)])\n",
        "\n"
      ],
      "metadata": {
        "id": "1VsCTnVzCnwe"
      },
      "execution_count": 10,
      "outputs": []
    },
    {
      "cell_type": "code",
      "source": [
        "  def Past3YearAveReturn(self):\n",
        "    for t in range(3):\n",
        "      the_year = str(int(self._t1[:4])-y-1)\n",
        "      stock_last_yr= self._price_history.loc[self._price_history.Date.str.startswith(the_year)]\n",
        "      div_sum = sum(self._div_history[self._div_history.index.strftime('%Y').str.startswith(the_year)])\n",
        "\n",
        "    stock = pd.read_csv('{0}.csv'.format(ticker))\n",
        "    return_sum = 0\n",
        "    for y in range(3):\n",
        "      the_year = str(int(current_date[:4])-y-1)\n",
        "      stock_last_yr= stock.loc[stock.Date.str.startswith(the_year)]\n",
        "      div = yfin.Ticker(ticker).dividends\n",
        "      div_sum = sum(div[div.index.strftime('%Y').str.startswith(the_year)])\n",
        "      p0 = stock_last_yr['Adj Close'][stock_last_yr.index[0]]\n",
        "      p1 = stock_last_yr['Adj Close'][stock_last_yr.index[-1]]\n",
        "      Return = (p1+div_sum-p0)/p0\n",
        "      return_sum+=Return\n",
        "  #  print(p0,p1)\n",
        "    return return_sum/3"
      ],
      "metadata": {
        "id": "IqAJAWwnvDOt"
      },
      "execution_count": 11,
      "outputs": []
    },
    {
      "cell_type": "code",
      "source": [
        "tickers = ['qqq','dog','spy']\n",
        "p = portfolio(tickers)"
      ],
      "metadata": {
        "colab": {
          "base_uri": "https://localhost:8080/"
        },
        "id": "L8iA5XQW0alU",
        "outputId": "ede950c8-4fcc-487d-b97e-7b7f8dbfab36"
      },
      "execution_count": 12,
      "outputs": [
        {
          "output_type": "stream",
          "name": "stdout",
          "text": [
            "[*********************100%%**********************]  1 of 1 completed\n",
            "[*********************100%%**********************]  1 of 1 completed\n",
            "[*********************100%%**********************]  1 of 1 completed\n"
          ]
        }
      ]
    },
    {
      "cell_type": "code",
      "source": [
        "p.update('2021-1-1')"
      ],
      "metadata": {
        "id": "E_st9YDw26Bl"
      },
      "execution_count": 13,
      "outputs": []
    },
    {
      "cell_type": "code",
      "source": [
        "p.Return()"
      ],
      "metadata": {
        "colab": {
          "base_uri": "https://localhost:8080/"
        },
        "id": "ffR_5iuYxRhz",
        "outputId": "dddcc140-50e1-411d-9837-4c78e242a97d"
      },
      "execution_count": 15,
      "outputs": [
        {
          "output_type": "execute_result",
          "data": {
            "text/plain": [
              "array([ 0.03197768, -0.00911109,  0.02003265])"
            ]
          },
          "metadata": {},
          "execution_count": 15
        }
      ]
    },
    {
      "cell_type": "code",
      "source": [],
      "metadata": {
        "id": "f7G26oHvwVww",
        "colab": {
          "base_uri": "https://localhost:8080/",
          "height": 424
        },
        "outputId": "8aeb8b01-f7e1-48b1-f4bf-0fcf3523d233"
      },
      "execution_count": 110,
      "outputs": [
        {
          "output_type": "execute_result",
          "data": {
            "text/plain": [
              "                             spy\n",
              "1993-03-19 00:00:00-05:00  0.213\n",
              "1993-06-18 00:00:00-04:00  0.318\n",
              "1993-09-17 00:00:00-04:00  0.286\n",
              "1993-12-17 00:00:00-05:00  0.317\n",
              "1994-03-18 00:00:00-05:00  0.271\n",
              "...                          ...\n",
              "2023-03-20 00:00:00-04:00    NaN\n",
              "2023-03-22 00:00:00-04:00    NaN\n",
              "2023-06-16 00:00:00-04:00  1.638\n",
              "2023-06-20 00:00:00-04:00    NaN\n",
              "2023-06-21 00:00:00-04:00    NaN\n",
              "\n",
              "[221 rows x 1 columns]"
            ],
            "text/html": [
              "\n",
              "  <div id=\"df-759bc572-2cb9-40d6-833b-8ad7c15122d7\" class=\"colab-df-container\">\n",
              "    <div>\n",
              "<style scoped>\n",
              "    .dataframe tbody tr th:only-of-type {\n",
              "        vertical-align: middle;\n",
              "    }\n",
              "\n",
              "    .dataframe tbody tr th {\n",
              "        vertical-align: top;\n",
              "    }\n",
              "\n",
              "    .dataframe thead th {\n",
              "        text-align: right;\n",
              "    }\n",
              "</style>\n",
              "<table border=\"1\" class=\"dataframe\">\n",
              "  <thead>\n",
              "    <tr style=\"text-align: right;\">\n",
              "      <th></th>\n",
              "      <th>spy</th>\n",
              "    </tr>\n",
              "  </thead>\n",
              "  <tbody>\n",
              "    <tr>\n",
              "      <th>1993-03-19 00:00:00-05:00</th>\n",
              "      <td>0.213</td>\n",
              "    </tr>\n",
              "    <tr>\n",
              "      <th>1993-06-18 00:00:00-04:00</th>\n",
              "      <td>0.318</td>\n",
              "    </tr>\n",
              "    <tr>\n",
              "      <th>1993-09-17 00:00:00-04:00</th>\n",
              "      <td>0.286</td>\n",
              "    </tr>\n",
              "    <tr>\n",
              "      <th>1993-12-17 00:00:00-05:00</th>\n",
              "      <td>0.317</td>\n",
              "    </tr>\n",
              "    <tr>\n",
              "      <th>1994-03-18 00:00:00-05:00</th>\n",
              "      <td>0.271</td>\n",
              "    </tr>\n",
              "    <tr>\n",
              "      <th>...</th>\n",
              "      <td>...</td>\n",
              "    </tr>\n",
              "    <tr>\n",
              "      <th>2023-03-20 00:00:00-04:00</th>\n",
              "      <td>NaN</td>\n",
              "    </tr>\n",
              "    <tr>\n",
              "      <th>2023-03-22 00:00:00-04:00</th>\n",
              "      <td>NaN</td>\n",
              "    </tr>\n",
              "    <tr>\n",
              "      <th>2023-06-16 00:00:00-04:00</th>\n",
              "      <td>1.638</td>\n",
              "    </tr>\n",
              "    <tr>\n",
              "      <th>2023-06-20 00:00:00-04:00</th>\n",
              "      <td>NaN</td>\n",
              "    </tr>\n",
              "    <tr>\n",
              "      <th>2023-06-21 00:00:00-04:00</th>\n",
              "      <td>NaN</td>\n",
              "    </tr>\n",
              "  </tbody>\n",
              "</table>\n",
              "<p>221 rows × 1 columns</p>\n",
              "</div>\n",
              "    <div class=\"colab-df-buttons\">\n",
              "\n",
              "  <div class=\"colab-df-container\">\n",
              "    <button class=\"colab-df-convert\" onclick=\"convertToInteractive('df-759bc572-2cb9-40d6-833b-8ad7c15122d7')\"\n",
              "            title=\"Convert this dataframe to an interactive table.\"\n",
              "            style=\"display:none;\">\n",
              "\n",
              "  <svg xmlns=\"http://www.w3.org/2000/svg\" height=\"24px\" viewBox=\"0 -960 960 960\">\n",
              "    <path d=\"M120-120v-720h720v720H120Zm60-500h600v-160H180v160Zm220 220h160v-160H400v160Zm0 220h160v-160H400v160ZM180-400h160v-160H180v160Zm440 0h160v-160H620v160ZM180-180h160v-160H180v160Zm440 0h160v-160H620v160Z\"/>\n",
              "  </svg>\n",
              "    </button>\n",
              "\n",
              "  <style>\n",
              "    .colab-df-container {\n",
              "      display:flex;\n",
              "      gap: 12px;\n",
              "    }\n",
              "\n",
              "    .colab-df-convert {\n",
              "      background-color: #E8F0FE;\n",
              "      border: none;\n",
              "      border-radius: 50%;\n",
              "      cursor: pointer;\n",
              "      display: none;\n",
              "      fill: #1967D2;\n",
              "      height: 32px;\n",
              "      padding: 0 0 0 0;\n",
              "      width: 32px;\n",
              "    }\n",
              "\n",
              "    .colab-df-convert:hover {\n",
              "      background-color: #E2EBFA;\n",
              "      box-shadow: 0px 1px 2px rgba(60, 64, 67, 0.3), 0px 1px 3px 1px rgba(60, 64, 67, 0.15);\n",
              "      fill: #174EA6;\n",
              "    }\n",
              "\n",
              "    .colab-df-buttons div {\n",
              "      margin-bottom: 4px;\n",
              "    }\n",
              "\n",
              "    [theme=dark] .colab-df-convert {\n",
              "      background-color: #3B4455;\n",
              "      fill: #D2E3FC;\n",
              "    }\n",
              "\n",
              "    [theme=dark] .colab-df-convert:hover {\n",
              "      background-color: #434B5C;\n",
              "      box-shadow: 0px 1px 3px 1px rgba(0, 0, 0, 0.15);\n",
              "      filter: drop-shadow(0px 1px 2px rgba(0, 0, 0, 0.3));\n",
              "      fill: #FFFFFF;\n",
              "    }\n",
              "  </style>\n",
              "\n",
              "    <script>\n",
              "      const buttonEl =\n",
              "        document.querySelector('#df-759bc572-2cb9-40d6-833b-8ad7c15122d7 button.colab-df-convert');\n",
              "      buttonEl.style.display =\n",
              "        google.colab.kernel.accessAllowed ? 'block' : 'none';\n",
              "\n",
              "      async function convertToInteractive(key) {\n",
              "        const element = document.querySelector('#df-759bc572-2cb9-40d6-833b-8ad7c15122d7');\n",
              "        const dataTable =\n",
              "          await google.colab.kernel.invokeFunction('convertToInteractive',\n",
              "                                                    [key], {});\n",
              "        if (!dataTable) return;\n",
              "\n",
              "        const docLinkHtml = 'Like what you see? Visit the ' +\n",
              "          '<a target=\"_blank\" href=https://colab.research.google.com/notebooks/data_table.ipynb>data table notebook</a>'\n",
              "          + ' to learn more about interactive tables.';\n",
              "        element.innerHTML = '';\n",
              "        dataTable['output_type'] = 'display_data';\n",
              "        await google.colab.output.renderOutput(dataTable, element);\n",
              "        const docLink = document.createElement('div');\n",
              "        docLink.innerHTML = docLinkHtml;\n",
              "        element.appendChild(docLink);\n",
              "      }\n",
              "    </script>\n",
              "  </div>\n",
              "\n",
              "\n",
              "<div id=\"df-77b889f5-4eb5-41d9-a66b-0e75bf6fdce7\">\n",
              "  <button class=\"colab-df-quickchart\" onclick=\"quickchart('df-77b889f5-4eb5-41d9-a66b-0e75bf6fdce7')\"\n",
              "            title=\"Suggest charts.\"\n",
              "            style=\"display:none;\">\n",
              "\n",
              "<svg xmlns=\"http://www.w3.org/2000/svg\" height=\"24px\"viewBox=\"0 0 24 24\"\n",
              "     width=\"24px\">\n",
              "    <g>\n",
              "        <path d=\"M19 3H5c-1.1 0-2 .9-2 2v14c0 1.1.9 2 2 2h14c1.1 0 2-.9 2-2V5c0-1.1-.9-2-2-2zM9 17H7v-7h2v7zm4 0h-2V7h2v10zm4 0h-2v-4h2v4z\"/>\n",
              "    </g>\n",
              "</svg>\n",
              "  </button>\n",
              "\n",
              "<style>\n",
              "  .colab-df-quickchart {\n",
              "    background-color: #E8F0FE;\n",
              "    border: none;\n",
              "    border-radius: 50%;\n",
              "    cursor: pointer;\n",
              "    display: none;\n",
              "    fill: #1967D2;\n",
              "    height: 32px;\n",
              "    padding: 0 0 0 0;\n",
              "    width: 32px;\n",
              "  }\n",
              "\n",
              "  .colab-df-quickchart:hover {\n",
              "    background-color: #E2EBFA;\n",
              "    box-shadow: 0px 1px 2px rgba(60, 64, 67, 0.3), 0px 1px 3px 1px rgba(60, 64, 67, 0.15);\n",
              "    fill: #174EA6;\n",
              "  }\n",
              "\n",
              "  [theme=dark] .colab-df-quickchart {\n",
              "    background-color: #3B4455;\n",
              "    fill: #D2E3FC;\n",
              "  }\n",
              "\n",
              "  [theme=dark] .colab-df-quickchart:hover {\n",
              "    background-color: #434B5C;\n",
              "    box-shadow: 0px 1px 3px 1px rgba(0, 0, 0, 0.15);\n",
              "    filter: drop-shadow(0px 1px 2px rgba(0, 0, 0, 0.3));\n",
              "    fill: #FFFFFF;\n",
              "  }\n",
              "</style>\n",
              "\n",
              "  <script>\n",
              "    async function quickchart(key) {\n",
              "      const charts = await google.colab.kernel.invokeFunction(\n",
              "          'suggestCharts', [key], {});\n",
              "    }\n",
              "    (() => {\n",
              "      let quickchartButtonEl =\n",
              "        document.querySelector('#df-77b889f5-4eb5-41d9-a66b-0e75bf6fdce7 button');\n",
              "      quickchartButtonEl.style.display =\n",
              "        google.colab.kernel.accessAllowed ? 'block' : 'none';\n",
              "    })();\n",
              "  </script>\n",
              "</div>\n",
              "    </div>\n",
              "  </div>\n"
            ]
          },
          "metadata": {},
          "execution_count": 110
        }
      ]
    },
    {
      "cell_type": "code",
      "source": [
        "a = pd.DataFrame()"
      ],
      "metadata": {
        "id": "GtR3f8uQ2en1"
      },
      "execution_count": 114,
      "outputs": []
    },
    {
      "cell_type": "code",
      "source": [
        "div_date = sorted(list(p._div_history['spy'].index)+list(p._div_history['qqq'].index))"
      ],
      "metadata": {
        "id": "yNlPt3p-ou4R"
      },
      "execution_count": 83,
      "outputs": []
    },
    {
      "cell_type": "code",
      "source": [
        "a.index = div_date"
      ],
      "metadata": {
        "id": "1KoU2h6zpE7W"
      },
      "execution_count": 115,
      "outputs": []
    },
    {
      "cell_type": "code",
      "source": [],
      "metadata": {
        "id": "_FEhmggGpIvp"
      },
      "execution_count": 81,
      "outputs": []
    },
    {
      "cell_type": "code",
      "source": [],
      "metadata": {
        "id": "jX_iO9AM2eBm"
      },
      "execution_count": 86,
      "outputs": []
    },
    {
      "cell_type": "code",
      "source": [],
      "metadata": {
        "id": "NvEpze45YVok"
      },
      "execution_count": 86,
      "outputs": []
    },
    {
      "cell_type": "code",
      "source": [],
      "metadata": {
        "id": "UfvlVWVdIQfl"
      },
      "execution_count": null,
      "outputs": []
    },
    {
      "cell_type": "code",
      "source": [],
      "metadata": {
        "id": "qnChCuE5N4bv"
      },
      "execution_count": null,
      "outputs": []
    }
  ]
}